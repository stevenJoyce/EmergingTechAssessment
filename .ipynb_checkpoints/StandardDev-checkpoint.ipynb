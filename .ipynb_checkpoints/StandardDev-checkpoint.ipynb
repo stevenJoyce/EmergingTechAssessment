{
 "cells": [
  {
   "cell_type": "markdown",
   "metadata": {},
   "source": [
    "# Research"
   ]
  },
  {
   "cell_type": "markdown",
   "metadata": {},
   "source": [
    "Understanding Stdev in excel:https://www.youtube.com/watch?v=NdIVwuwfMIg&ab_channel=DesigneLearningTutorials <br />\n",
    "http://mathbitsnotebook.com/Algebra1/StatisticsData/STPopSample.html <br />\n",
    "Stdev.p is used to find the standard deviation of all the data acquired. The p stands for population. In excel, you run the formula while selecting all data cells in the spreadsheet to find the result.\n",
    "Stdev.s is used to calculate the standard deviation of a sample of the data required. In excel you choose a select number of data cells and run the formula to find the standard deviation of those selected cells."
   ]
  },
  {
   "cell_type": "markdown",
   "metadata": {},
   "source": [
    "# Code"
   ]
  },
  {
   "cell_type": "code",
   "execution_count": 2,
   "metadata": {
    "scrolled": true
   },
   "outputs": [
    {
     "name": "stdout",
     "output_type": "stream",
     "text": [
      "standard deviation sample result\n"
     ]
    },
    {
     "data": {
      "text/plain": [
       "19.777724843874232"
      ]
     },
     "execution_count": 2,
     "metadata": {},
     "output_type": "execute_result"
    }
   ],
   "source": [
    "import numpy as np\n",
    "#data is random results of a test in % format - 20 in total\n",
    "data = ([75,22,82,48,51,92,72,64,38,57,62,79,88,28,53,83,75,66,43,52,78,91,85,34,58])\n",
    "print(\"standard deviation sample result\")\n",
    "#formula for sample - np.sqrt(np.sum((x - np.mean(x))**2)/len(x))\n",
    "np.sqrt(np.sum((data - np.mean(data))**2)/len(data))"
   ]
  },
  {
   "cell_type": "markdown",
   "metadata": {},
   "source": [
    "# References"
   ]
  },
  {
   "cell_type": "code",
   "execution_count": 3,
   "metadata": {},
   "outputs": [
    {
     "name": "stdout",
     "output_type": "stream",
     "text": [
      "standard deviation population result\n"
     ]
    },
    {
     "data": {
      "text/plain": [
       "19.75242769889312"
      ]
     },
     "execution_count": 3,
     "metadata": {},
     "output_type": "execute_result"
    }
   ],
   "source": [
    "import numpy as np\n",
    "#data is random results of a test in % format - 20 in total\n",
    "data = ([75,22,82,48,51,92,72,64,38,57,62,79,88,28,53,83,75,66,43,52,78,91,85,34,58])\n",
    "print(\"standard deviation population result\")\n",
    "np.sqrt(np.sum((data - np.mean(data))**2)/len(data)-1)"
   ]
  },
  {
   "cell_type": "markdown",
   "metadata": {},
   "source": [
    "# Analysis"
   ]
  },
  {
   "cell_type": "markdown",
   "metadata": {},
   "source": [
    "The results of both tests gives the user a basis of where the standard deviation of the tests is based. Stdev.p = 19.78(to 2 decimal places) while stdev.s = 17.75(to two decimal places). The difference to two decimal places is 0.03. This gives the user an understanding that the data is mainly between 20% of the mean.\n",
    "Using Stdev.s gives the user a better understanding of what the standard deviaton is because it will offer a greater fluctuation of results due it taking only select results that are randomly choosen from the data provided.When the data provided gets larger, the population result can change rapidly because alot of people could score around the same mark.This will skew the data and give out a result that may not accurately reflect the data provided to give the best outcome. Due to this using the sample standard deviation formula allows the data to be randomly choosen and give a better outcome because the data provided will be of a greater variance. \n",
    "With the data provided in the above code size was not 25 but 2500 and 5-% of the results are between 45-55, this will cause the standard dev population to be a much lower number than the number calculated in this file."
   ]
  }
 ],
 "metadata": {
  "kernelspec": {
   "display_name": "Python 3",
   "language": "python",
   "name": "python3"
  },
  "language_info": {
   "codemirror_mode": {
    "name": "ipython",
    "version": 3
   },
   "file_extension": ".py",
   "mimetype": "text/x-python",
   "name": "python",
   "nbconvert_exporter": "python",
   "pygments_lexer": "ipython3",
   "version": "3.8.3"
  }
 },
 "nbformat": 4,
 "nbformat_minor": 4
}
