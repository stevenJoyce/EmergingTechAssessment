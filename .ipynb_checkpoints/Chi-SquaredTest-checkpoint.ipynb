{
 "cells": [
  {
   "cell_type": "markdown",
   "metadata": {},
   "source": [
    "# References"
   ]
  },
  {
   "cell_type": "code",
   "execution_count": null,
   "metadata": {},
   "outputs": [],
   "source": []
  },
  {
   "cell_type": "markdown",
   "metadata": {},
   "source": [
    "# Table"
   ]
  },
  {
   "cell_type": "code",
   "execution_count": null,
   "metadata": {},
   "outputs": [],
   "source": [
    "headings = [\"A\",\"B\",\"C\",\"D\"]\n",
    "data =[[ 90, 60, 104, 95],[ 30, 50, 51, 20],[30, 40, 45, 35]]\n",
    "format_row = \"{:>10}\" * (len(headings) + 1)\n",
    "print(format_row.format(\"\", *headings))\n",
    "for team, row in zip(headings, data):\n",
    "    print(format_row.format(team, *row)) "
   ]
  },
  {
   "cell_type": "markdown",
   "metadata": {},
   "source": [
    "# Code"
   ]
  },
  {
   "cell_type": "code",
   "execution_count": 12,
   "metadata": {},
   "outputs": [
    {
     "name": "stdout",
     "output_type": "stream",
     "text": [
      "p value is 0.0004098425861096696\n",
      "Expected\n",
      "[[ 80.53846154  80.53846154 107.38461538  80.53846154]\n",
      " [ 34.84615385  34.84615385  46.46153846  34.84615385]\n",
      " [ 34.61538462  34.61538462  46.15384615  34.61538462]]\n",
      "Dof =  6\n",
      "Stat =  24.5712028585826\n"
     ]
    }
   ],
   "source": [
    "import scipy.stats as stats\n",
    "  \n",
    "# data stored in a 2-D array from the table provided\n",
    "data = [[ 90, 60, 104, 95],[ 30, 50, 51, 20],[30, 40, 45, 35]]\n",
    "#set a sugnificant value\n",
    "sugValue = 24.6\n",
    "stat, p, dof, expected = stats.chi2_contingency(data) \n",
    "\n",
    "print(\"p value is \" + str(p)) \n",
    "\n",
    "print(\"Expected\")\n",
    "print(expected)\n",
    "\n",
    "print(\"Dof = \", dof)\n",
    "print(\"Stat = \", stat)\n"
   ]
  },
  {
   "cell_type": "markdown",
   "metadata": {},
   "source": [
    "# Analysis"
   ]
  },
  {
   "cell_type": "markdown",
   "metadata": {},
   "source": []
  }
 ],
 "metadata": {
  "kernelspec": {
   "display_name": "Python 3",
   "language": "python",
   "name": "python3"
  },
  "language_info": {
   "codemirror_mode": {
    "name": "ipython",
    "version": 3
   },
   "file_extension": ".py",
   "mimetype": "text/x-python",
   "name": "python",
   "nbconvert_exporter": "python",
   "pygments_lexer": "ipython3",
   "version": "3.8.3"
  }
 },
 "nbformat": 4,
 "nbformat_minor": 4
}
