{
 "cells": [
  {
   "cell_type": "markdown",
   "metadata": {},
   "source": [
    "# Task 1"
   ]
  },
  {
   "cell_type": "markdown",
   "metadata": {},
   "source": [
    "Write a Python function called sqrt2 that calculates and\n",
    "prints to the screen the square root of 2 to 100 decimal places. Your code should\n",
    "not depend on any module from the standard library1 or otherwise. You should\n",
    "research the task first and include references and a description of your algorithm."
   ]
  },
  {
   "cell_type": "markdown",
   "metadata": {},
   "source": [
    "# Code"
   ]
  },
  {
   "cell_type": "code",
   "execution_count": 4,
   "metadata": {},
   "outputs": [
    {
     "name": "stdout",
     "output_type": "stream",
     "text": [
      "10000000000000000000000000000000000000000000000000000000000000000000000000000000000000000000000000000\n"
     ]
    },
    {
     "data": {
      "text/plain": [
       "'1.4142135623730950488016887242096980785696718753769480731766797379907324784621070388503875343276415727'"
      ]
     },
     "execution_count": 4,
     "metadata": {},
     "output_type": "execute_result"
    }
   ],
   "source": [
    "def sqroot():\n",
    "\n",
    "    # set a value of x\n",
    "    x = 2\n",
    "    #storing a value for 10**100 to be used in the while loop\n",
    "    power = 10**100\n",
    "    # getting a value for 2 that is 100 places above the decimal point\n",
    "    x *=(10**(200))\n",
    "    #initialize y\n",
    "    y = 0\n",
    "    \n",
    "    # A loop to generate the square root of 2 value\n",
    "    while y!=power:\n",
    "        y = power\n",
    "        power = (y + ( x // y)) >> 1\n",
    "        \n",
    "    # variable value stores a list of the while loop output\n",
    "    value = list(str(power))\n",
    "    \n",
    "    # insert a dot after 1 place in the list\n",
    "    value.insert(1, '.')\n",
    "    \n",
    "    # store the list values in a variable to be returned to user of the function\n",
    "    ans = ''.join(value)\n",
    "    \n",
    "    # return the answer\n",
    "    return ans\n",
    "\n",
    "# call function\n",
    "sqroot()"
   ]
  },
  {
   "cell_type": "markdown",
   "metadata": {},
   "source": [
    "# Analysis"
   ]
  },
  {
   "cell_type": "markdown",
   "metadata": {},
   "source": [
    "For this task I created a function called sqroot to output the result.\n",
    "The x value is 2.The x variable is then times by 10 beforeit is exponentiated by 200 to get a value for x that is 100 decimals places above the decimal point.A variable y is created for the while loop and initialized at 0. A variable power is set to 10  exponentiated by 100. The while loop runs until y = power. Inside the while loop y is set to power while power is set to y + (x divided y) before being converted into a binary format and then the operations will be performed bit by bit.\n",
    "The result of the while loop is soted in power before being added cast to a string and added to a list called value. A dot seperator is added to be used after the first value in the list.\n",
    "The list value variables are then saved in a variable called ans. The ans variable is returned at the end of the function. "
   ]
  },
  {
   "cell_type": "markdown",
   "metadata": {},
   "source": [
    "# References"
   ]
  },
  {
   "cell_type": "markdown",
   "metadata": {},
   "source": [
    "Powers function in python:https://docs.python.org/3/tutorial/introduction.html <br />\n",
    "Square root:https://www.tutorialspoint.com/How-to-perform-square-root-without-using-math-module-in-Python <br />\n",
    "formating python:https://www.geeksforgeeks.org/precision-handling-python/ <br />\n",
    "code: https://stackoverflow.com/questions/64278117/is-there-a-way-to-create-more-decimal-points-on-python-withoutimporting-a-libra <br />\n",
    "Undestanding Newtons method: https://www.math.ubc.ca/~pwalls/math-python/roots-optimization/newton/ <br />\n",
    "    https://www.youtube.com/watch?v=2158QbsunA8&ab_channel=LorenzoSadun <br />\n",
    "To understand how to add a dot seperator to list: https://realpython.com/python-string-split-concatenate-join/ <br />\n",
    "Generating a square root value: https://stackoverflow.com/questions/5187664/generating-digits-of-square-root-of-2"
   ]
  },
  {
   "cell_type": "markdown",
   "metadata": {},
   "source": [
    "# Task 2"
   ]
  },
  {
   "cell_type": "markdown",
   "metadata": {},
   "source": [
    "The Chi-squared test for independence is a statistical hypothesis test like a t-test. It is used to analyse whether two categorical variables are independent. The Wikipedia article gives the table below as an example [4], stating the Chi squared value based on it is approximately 24.6. Use scipy.stats to verify this value and calculate the associated p value. You should include a short note with references justifying your analysis in a markdown cell."
   ]
  },
  {
   "cell_type": "markdown",
   "metadata": {},
   "source": [
    "# Table"
   ]
  },
  {
   "cell_type": "code",
   "execution_count": 9,
   "metadata": {},
   "outputs": [
    {
     "name": "stdout",
     "output_type": "stream",
     "text": [
      "                   A         B         C         D\n",
      "         A        90        60       104        95\n",
      "         B        30        50        51        20\n",
      "         C        30        40        45        35\n"
     ]
    }
   ],
   "source": [
    "headings = [\"A\",\"B\",\"C\",\"D\"]\n",
    "data =[[ 90, 60, 104, 95],[ 30, 50, 51, 20],[30, 40, 45, 35]]\n",
    "format_row = \"{:>10}\" * (len(headings) + 1)\n",
    "print(format_row.format(\"\", *headings))\n",
    "for team, row in zip(headings, data):\n",
    "    print(format_row.format(team, *row)) "
   ]
  },
  {
   "cell_type": "markdown",
   "metadata": {},
   "source": [
    "# Code"
   ]
  },
  {
   "cell_type": "code",
   "execution_count": null,
   "metadata": {},
   "outputs": [],
   "source": [
    "import scipy.stats as stats\n",
    "  \n",
    "# data stored in a 2-D array from the table provided\n",
    "data = [[ 90, 60, 104, 95],[ 30, 50, 51, 20],[30, 40, 45, 35]]\n",
    "#set a significant value\n",
    "sigValue = 24.6\n",
    "stat, p, dof, expected = stats.chi2_contingency(data) \n",
    "\n",
    "print(\"p value is \" + str(p)) \n",
    "\n",
    "print(\"Expected\")\n",
    "print(expected)\n",
    "\n",
    "print(\"Dof = \", dof)\n",
    "print(\"Stat = \", stat)"
   ]
  },
  {
   "cell_type": "markdown",
   "metadata": {},
   "source": [
    "# Analysis"
   ]
  },
  {
   "cell_type": "markdown",
   "metadata": {},
   "source": [
    "The result received in this test is 24.57. This is lower than the significant value of 24.6. The difference is 0.03. A null hypothesis can now not be accepted because we can see that there is a relationship between the 2 categories. The value we get for p also reaffirms this conclusion."
   ]
  },
  {
   "cell_type": "markdown",
   "metadata": {},
   "source": [
    "# References"
   ]
  },
  {
   "cell_type": "markdown",
   "metadata": {},
   "source": [
    "Undestanding Chi-Square test: https://stattrek.com/chi-square-test/independence.aspx\n",
    "https://www.investopedia.com/terms/c/chi-square-statistic.asp#:~:text=A%20chi%2Dsquare%20(%CF%872,compares%20to%20actual%20observed%20data.&text=The%20chi%2Dsquare%20statistic%20compares,of%20variables%20in%20the%20relationship)\n",
    "Understanding desgrees of freedom:https://statisticsbyjim.com/hypothesis-testing/degrees-freedom-statistics/\n",
    "Scipy docs:https://docs.scipy.org/doc/scipy/reference/generated/scipy.stats.chisquare.html"
   ]
  },
  {
   "cell_type": "markdown",
   "metadata": {},
   "source": [
    "# Task 3"
   ]
  },
  {
   "cell_type": "markdown",
   "metadata": {},
   "source": [
    "The standard deviation of an array of numbers x is calculated using numpy as np.sqrt(np.sum((x - np.mean(x))** 2)/len(x)).\n",
    "However, Microsoft Excel has two different versions of the standard deviation calculation, STDEV.P and STDEV.S .\n",
    "The STDEV.P function performs the above calculation but in the STDEV.S calculation the division is by len(x)-1 rather\n",
    "than len(x) . Research these Excel functions, writing a note in a Markdown cell about the difference between them. Then use numpy to perform a simulation demonstrating that the STDEV.S calculation is a better estimate for the standard deviation of a population when performed on a sample. \n",
    "Note that part of this taskis to figure out the terminology in the previous sentence."
   ]
  },
  {
   "cell_type": "markdown",
   "metadata": {},
   "source": [
    "# Research"
   ]
  },
  {
   "cell_type": "markdown",
   "metadata": {},
   "source": [
    "Understanding Stdev in excel:https://www.youtube.com/watch?v=NdIVwuwfMIg&ab_channel=DesigneLearningTutorials <br />\n",
    "http://mathbitsnotebook.com/Algebra1/StatisticsData/STPopSample.html <br />\n",
    "Stdev.p is used to find the standard deviation of all the data acquired. The p stands for population. In excel, you run the formula while selecting all data cells in the spreadsheet to find the result.\n",
    "Stdev.s is used to calculate the standard deviation of a sample of the data required. In excel you choose a select number of data cells and run the formula to find the standard deviation of those selected cells."
   ]
  },
  {
   "cell_type": "markdown",
   "metadata": {},
   "source": [
    "# Code"
   ]
  },
  {
   "cell_type": "markdown",
   "metadata": {},
   "source": [
    "# Standard Deviation Population Test"
   ]
  },
  {
   "cell_type": "code",
   "execution_count": 21,
   "metadata": {},
   "outputs": [
    {
     "name": "stdout",
     "output_type": "stream",
     "text": [
      "standard deviation population result\n"
     ]
    },
    {
     "data": {
      "text/plain": [
       "19.777724843874232"
      ]
     },
     "execution_count": 21,
     "metadata": {},
     "output_type": "execute_result"
    }
   ],
   "source": [
    "import numpy as np\n",
    "#data is random results of a test in % format - 25 in total\n",
    "data = ([75,22,82,48,51,92,72,64,38,57,62,79,88,28,53,83,75,66,43,52,78,91,85,34,58])\n",
    "print(\"standard deviation population result\")\n",
    "#formula for sample - np.sqrt(np.sum((x - np.mean(x))**2)/len(x))\n",
    "np.sqrt(np.sum((data - np.mean(data))**2)/len(data))"
   ]
  },
  {
   "cell_type": "markdown",
   "metadata": {},
   "source": [
    "# Standard Deviation Sample Test"
   ]
  },
  {
   "cell_type": "code",
   "execution_count": 5,
   "metadata": {},
   "outputs": [
    {
     "name": "stdout",
     "output_type": "stream",
     "text": [
      "standard deviation sample result\n"
     ]
    },
    {
     "data": {
      "text/plain": [
       "19.75242769889312"
      ]
     },
     "execution_count": 5,
     "metadata": {},
     "output_type": "execute_result"
    }
   ],
   "source": [
    "import numpy as np\n",
    "#data is random results of a test in % format - 25 in total\n",
    "data = ([75,22,82,48,51,92,72,64,38,57,62,79,88,28,53,83,75,66,43,52,78,91,85,34,58])\n",
    "print(\"standard deviation sample result\")\n",
    "np.sqrt(np.sum((data - np.mean(data))**2)/len(data)-1)"
   ]
  },
  {
   "cell_type": "markdown",
   "metadata": {},
   "source": [
    "# Analysis"
   ]
  },
  {
   "cell_type": "markdown",
   "metadata": {},
   "source": [
    "The results of both tests gives the user a basis of where the standard deviation of the tests is based. Stdev.p = 19.78(to 2 decimal places) while stdev.s = 17.75(to two decimal places). The difference to two decimal places is 0.03. This gives the user an understanding that the data is mainly between 20% of the mean.\n",
    "Using Stdev.s gives the user a better understanding of what the standard deviaton is because it will offer a greater fluctuation of results due it taking only select results that are randomly choosen from the data provided.When the data provided gets larger, the population result can change rapidly because alot of people could score around the same mark.This will skew the data and give out a result that may not accurately reflect the data provided to give the best outcome. Due to this using the sample standard deviation formula allows the data to be randomly choosen and give a better outcome because the data provided will be of a greater variance. \n",
    "With the data provided in the above code size was not 25 but 2500 and 5-% of the results are between 45-55, this will cause the standard dev population to be a much lower number than the number calculated in this file."
   ]
  },
  {
   "cell_type": "markdown",
   "metadata": {},
   "source": [
    "# Task 4"
   ]
  },
  {
   "cell_type": "markdown",
   "metadata": {},
   "source": [
    "NB – when I first posted this task, I accidentally\n",
    "wrote “k-means” where I meant to write “kNN” for k Nearest Neighbours. Because of this, I will allow either algorithm to be used and have\n",
    "extended the deadline by two weeks. Use scikit-learn to apply k-means\n",
    "clustering to Fisher’s famous Iris data set. You will easily obtain a copy of the data\n",
    "set online. Explain in a Markdown cell how your code works and how accurate it\n",
    "might be, and then explain how your model could be used to make predictions of\n",
    "species of iris"
   ]
  },
  {
   "cell_type": "markdown",
   "metadata": {},
   "source": [
    "# Code"
   ]
  },
  {
   "cell_type": "code",
   "execution_count": 3,
   "metadata": {},
   "outputs": [
    {
     "data": {
      "text/plain": [
       "array([[10.,  2.],\n",
       "       [ 1.,  2.]])"
      ]
     },
     "execution_count": 3,
     "metadata": {},
     "output_type": "execute_result"
    }
   ],
   "source": [
    "from sklearn.cluster import KMeans\n",
    "import numpy as np\n",
    "#Fisher's Iris Dataset\n",
    "iris = datasets.load_iris()\n",
    "\n",
    "X = np.array([[1, 2], [1, 4], [1, 0],\n",
    "              [10, 2], [10, 4], [10, 0]])\n",
    "kmeans = KMeans(n_clusters=2, random_state=0).fit(X)\n",
    "kmeans.labels_\n",
    "\n",
    "kmeans.predict([[0, 0], [12, 3]])\n",
    "\n",
    "kmeans.cluster_centers_"
   ]
  },
  {
   "cell_type": "code",
   "execution_count": null,
   "metadata": {},
   "outputs": [],
   "source": []
  }
 ],
 "metadata": {
  "kernelspec": {
   "display_name": "Python 3",
   "language": "python",
   "name": "python3"
  },
  "language_info": {
   "codemirror_mode": {
    "name": "ipython",
    "version": 3
   },
   "file_extension": ".py",
   "mimetype": "text/x-python",
   "name": "python",
   "nbconvert_exporter": "python",
   "pygments_lexer": "ipython3",
   "version": "3.8.5"
  }
 },
 "nbformat": 4,
 "nbformat_minor": 4
}
