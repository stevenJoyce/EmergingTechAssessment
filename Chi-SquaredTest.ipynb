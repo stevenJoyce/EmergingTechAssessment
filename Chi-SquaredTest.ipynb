{
 "cells": [
  {
   "cell_type": "markdown",
   "metadata": {},
   "source": [
    "# References"
   ]
  },
  {
   "cell_type": "markdown",
   "metadata": {},
   "source": [
    "Undestanding Chi-Square test: https://stattrek.com/chi-square-test/independence.aspx\n",
    "https://www.investopedia.com/terms/c/chi-square-statistic.asp#:~:text=A%20chi%2Dsquare%20(%CF%872,compares%20to%20actual%20observed%20data.&text=The%20chi%2Dsquare%20statistic%20compares,of%20variables%20in%20the%20relationship)\n",
    "Understanding desgrees of freedom:https://statisticsbyjim.com/hypothesis-testing/degrees-freedom-statistics/\n",
    "Scipy docs:https://docs.scipy.org/doc/scipy/reference/generated/scipy.stats.chisquare.html\n"
   ]
  },
  {
   "cell_type": "markdown",
   "metadata": {},
   "source": [
    "# Table"
   ]
  },
  {
   "cell_type": "code",
   "execution_count": 5,
   "metadata": {},
   "outputs": [
    {
     "name": "stdout",
     "output_type": "stream",
     "text": [
      "                   A         B         C         D\n",
      "         A        90        60       104        95\n",
      "         B        30        50        51        20\n",
      "         C        30        40        45        35\n"
     ]
    }
   ],
   "source": [
    "headings = [\"A\",\"B\",\"C\",\"D\"]\n",
    "data =[[ 90, 60, 104, 95],[ 30, 50, 51, 20],[30, 40, 45, 35]]\n",
    "format_row = \"{:>10}\" * (len(headings) + 1)\n",
    "print(format_row.format(\"\", *headings))\n",
    "for team, row in zip(headings, data):\n",
    "    print(format_row.format(team, *row)) "
   ]
  },
  {
   "cell_type": "markdown",
   "metadata": {},
   "source": [
    "# Code"
   ]
  },
  {
   "cell_type": "code",
   "execution_count": 12,
   "metadata": {},
   "outputs": [
    {
     "name": "stdout",
     "output_type": "stream",
     "text": [
      "p value is 0.0004098425861096696\n",
      "Expected\n",
      "[[ 80.53846154  80.53846154 107.38461538  80.53846154]\n",
      " [ 34.84615385  34.84615385  46.46153846  34.84615385]\n",
      " [ 34.61538462  34.61538462  46.15384615  34.61538462]]\n",
      "Dof =  6\n",
      "Stat =  24.5712028585826\n"
     ]
    }
   ],
   "source": [
    "import scipy.stats as stats\n",
    "  \n",
    "# data stored in a 2-D array from the table provided\n",
    "data = [[ 90, 60, 104, 95],[ 30, 50, 51, 20],[30, 40, 45, 35]]\n",
    "#set a significant value\n",
    "sigValue = 24.6\n",
    "stat, p, dof, expected = stats.chi2_contingency(data) \n",
    "\n",
    "print(\"p value is \" + str(p)) \n",
    "\n",
    "print(\"Expected\")\n",
    "print(expected)\n",
    "\n",
    "print(\"Dof = \", dof)\n",
    "print(\"Stat = \", stat)\n"
   ]
  },
  {
   "cell_type": "markdown",
   "metadata": {},
   "source": [
    "# Analysis"
   ]
  },
  {
   "cell_type": "markdown",
   "metadata": {},
   "source": [
    "The result received in this test is 24.57. This is lower than the significant value of 24.6. The difference is 0.03.\n",
    "A null hypothesis can now not be accepted because we can see that there is a relationship between the 2 categories.\n",
    "The value we get for p also reaffirms this conclusion."
   ]
  }
 ],
 "metadata": {
  "kernelspec": {
   "display_name": "Python 3",
   "language": "python",
   "name": "python3"
  },
  "language_info": {
   "codemirror_mode": {
    "name": "ipython",
    "version": 3
   },
   "file_extension": ".py",
   "mimetype": "text/x-python",
   "name": "python",
   "nbconvert_exporter": "python",
   "pygments_lexer": "ipython3",
   "version": "3.8.3"
  }
 },
 "nbformat": 4,
 "nbformat_minor": 4
}
