{
 "cells": [
  {
   "cell_type": "markdown",
   "metadata": {},
   "source": [
    "# #References"
   ]
  },
  {
   "cell_type": "markdown",
   "metadata": {},
   "source": [
    "Powers function in python:https://docs.python.org/3/tutorial/introduction.html <br />\n",
    "Square root:https://www.tutorialspoint.com/How-to-perform-square-root-without-using-math-module-in-Python <br />\n",
    "formating python:https://www.geeksforgeeks.org/precision-handling-python/ <br />\n",
    "code: https://stackoverflow.com/questions/64278117/is-there-a-way-to-create-more-decimal-points-on-python-without-importing-a-libra <br />\n",
    "Undestanding Newtons method: https://www.math.ubc.ca/~pwalls/math-python/roots-optimization/newton/ <br />\n",
    "    https://www.youtube.com/watch?v=2158QbsunA8&ab_channel=LorenzoSadun <br />\n",
    "Understanding Babylonian Method: https://blogs.sas.com/content/iml/2016/05/16/babylonian-square-roots.html#:~:text=The%20Babylonian%20square%2Droot%20algorithm,Newton%20invented%20his%20general%20procedure <br />\n",
    "\n"
   ]
  },
  {
   "cell_type": "markdown",
   "metadata": {},
   "source": [
    "# Code"
   ]
  },
  {
   "cell_type": "code",
   "execution_count": 5,
   "metadata": {},
   "outputs": [
    {
     "name": "stdout",
     "output_type": "stream",
     "text": [
      "1.4142135623730951\n"
     ]
    }
   ],
   "source": [
    "#set value of number you wish to sqaure root number is 2\n",
    "number=2\n",
    "#using ** to implement the powers function to square root the set number \n",
    "#Exponentiation\n",
    "root =str(number**(0.5))\n",
    "result = str(root)\n",
    "print(\"{0:.100s}\".format(result))"
   ]
  },
  {
   "cell_type": "markdown",
   "metadata": {},
   "source": [
    "# Algorithm Description "
   ]
  },
  {
   "cell_type": "markdown",
   "metadata": {},
   "source": [
    "This is not my final algorithm. This is right now the best answer I have found. I have tried the babylonian and newtons method for computing algorithms but to no avail. I will come back to this soon. The algorithm was found on stack overflow from a use named alani. I modified a few pieces but no enough to call it my own. The code begins by setting the value of x to 2, then times it by 10 before exponentiate that answer by 200.This is to override the floating number precision limit of 53 decimal places.\n",
    "The function generate_derivatives is used to calculate true or false values for the wile loop."
   ]
  },
  {
   "cell_type": "code",
   "execution_count": 8,
   "metadata": {},
   "outputs": [
    {
     "name": "stdout",
     "output_type": "stream",
     "text": [
      "1.4142135623730950488016887242096980785696718753769480731766797379907324784621070388503875343276415727\n"
     ]
    }
   ],
   "source": [
    "x = 2 * 10 ** 200\n",
    "\n",
    "#storing the original x value in y\n",
    "y = x\n",
    "\n",
    "#storing a value for 10**100\n",
    "power = 10**100\n",
    "\n",
    "def generate_derivatives(x,y):\n",
    "    originalDer = abs(x - y**2)\n",
    "    minusDer = abs(x - (y-1)**2)\n",
    "    plusDer= abs(x - (y+1)**2)\n",
    "    \n",
    "    minimised = originalDer <= minusDer and originalDer <= plusDer\n",
    "    below_min =  plusDer < minusDer\n",
    "    \n",
    "    return minimised, below_min\n",
    "\n",
    "while True:\n",
    "    oldy = y\n",
    "    y = (y + x // y) // 2\n",
    "    minimised, below_min = generate_derivatives(x, y)\n",
    "    if minimised:\n",
    "        break\n",
    "\n",
    "    if y == oldy:\n",
    "        if below_min:\n",
    "            y += 1\n",
    "        else:\n",
    "            y -= 1\n",
    "        minimised, _ = generate_derivatives(x, y)\n",
    "        if minimised:\n",
    "            break\n",
    "\n",
    "print(f'{y // power}.{y % power:100d}')\n",
    "#code by alani"
   ]
  },
  {
   "cell_type": "markdown",
   "metadata": {},
   "source": [
    "# Newton's Method"
   ]
  },
  {
   "cell_type": "code",
   "execution_count": 11,
   "metadata": {},
   "outputs": [
    {
     "name": "stdout",
     "output_type": "stream",
     "text": [
      "1.4142135623730949234300169337075203657150268554687500000000000000000000000000000000000000000000000000\n"
     ]
    }
   ],
   "source": [
    "#function to run newtons method to calculate the square root of 2\n",
    "def sqRoot(number,iterations):\n",
    "    #Store input of n in x\n",
    "    x = float(number)\n",
    "    #variable to count the iterations\n",
    "    count = 0 \n",
    "    #for loop to run the number of iterations\n",
    "    for count in range(iterations):\n",
    "        number = 0.5 * (number + x / number)\n",
    "    return number\n",
    "\n",
    "print(\"{0:.100f}\".format(sqRoot(2,10)))"
   ]
  },
  {
   "cell_type": "markdown",
   "metadata": {},
   "source": [
    "# Babylonian Method"
   ]
  },
  {
   "cell_type": "code",
   "execution_count": 3,
   "metadata": {},
   "outputs": [
    {
     "name": "stdout",
     "output_type": "stream",
     "text": [
      "The Square root of 2 = 1.414213562373095\n"
     ]
    }
   ],
   "source": [
    "def BabylonianSqRoot(number):\n",
    "    x = number/2.0;\n",
    "    y = x + 1\n",
    "    \n",
    "    while(x != y):\n",
    "        num = number/x\n",
    "        y = x\n",
    "        x=(x + num)/2\n",
    "        \n",
    "    return x\n",
    "\n",
    "    g = number/2.0\n",
    "    g2 = g + 1\n",
    "print('The Square root of 2 =', BabylonianSqRoot(2));"
   ]
  },
  {
   "cell_type": "code",
   "execution_count": 13,
   "metadata": {},
   "outputs": [
    {
     "name": "stdout",
     "output_type": "stream",
     "text": [
      "The square root of the number 2 is 1.4142135623746899\n",
      "The square root of 2 is : 1.4142135623746898698271934335934929549694061279296875000000000000000000000000000000000000000000000000\n"
     ]
    }
   ],
   "source": [
    "def baby_method(num):\n",
    "    x = num\n",
    "    y = 1 \n",
    "    maxError = 0.0000001\n",
    "    while x - y > maxError:\n",
    "        x = (x + y)/2;\n",
    "        y = num/x;\n",
    "    return x\n",
    "print(\"The square root of 2 is : {0:.100f}\".format(baby_method(2)))"
   ]
  },
  {
   "cell_type": "markdown",
   "metadata": {},
   "source": [
    "The two attempts shown are defined functions I coded to run find the square root of 2. Due to Float having a limit of 53 decimal places the output is not correct. These are previous attempts I wrote of the assignment that led to the best outcome. I am not finished or happy with this yet."
   ]
  }
 ],
 "metadata": {
  "kernelspec": {
   "display_name": "Python 3",
   "language": "python",
   "name": "python3"
  },
  "language_info": {
   "codemirror_mode": {
    "name": "ipython",
    "version": 3
   },
   "file_extension": ".py",
   "mimetype": "text/x-python",
   "name": "python",
   "nbconvert_exporter": "python",
   "pygments_lexer": "ipython3",
   "version": "3.8.3"
  }
 },
 "nbformat": 4,
 "nbformat_minor": 4
}
