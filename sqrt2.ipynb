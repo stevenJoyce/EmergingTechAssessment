{
 "cells": [
  {
   "cell_type": "markdown",
   "metadata": {},
   "source": [
    "# #References"
   ]
  },
  {
   "cell_type": "markdown",
   "metadata": {},
   "source": [
    "Powers function in python:https://docs.python.org/3/tutorial/introduction.html <br />\n",
    "Square root:https://www.tutorialspoint.com/How-to-perform-square-root-without-using-math-module-in-Python <br />\n",
    "formating python:https://www.geeksforgeeks.org/precision-handling-python/\n",
    "code: https://stackoverflow.com/questions/64278117/is-there-a-way-to-create-more-decimal-points-on-python-without-importing-a-libra\n"
   ]
  },
  {
   "cell_type": "markdown",
   "metadata": {},
   "source": [
    "# Code"
   ]
  },
  {
   "cell_type": "code",
   "execution_count": 5,
   "metadata": {},
   "outputs": [
    {
     "name": "stdout",
     "output_type": "stream",
     "text": [
      "1.4142135623730951\n"
     ]
    }
   ],
   "source": [
    "#set value of number you wish to sqaure root number is 2\n",
    "number=2\n",
    "#using ** to implement the powers function to square root the set number \n",
    "#Exponentiation\n",
    "root =str(number**(0.5))\n",
    "result = str(root)\n",
    "print(\"{0:.100s}\".format(result))"
   ]
  },
  {
   "cell_type": "markdown",
   "metadata": {},
   "source": [
    "# Algorithm Description "
   ]
  },
  {
   "cell_type": "markdown",
   "metadata": {},
   "source": [
    "This is not my final algorithm. This is right now the best answer I have found. I have tried the babylonian and newtons method for computing algorithms but to no avail. I will come back to this soon. The algorithm was found on stack overflow from a use named alani. I modified a few pieces but no enough to call it my own. The code begins by setting the value of x to 2, then times it by 10 before exponentiate that answer by 200.This is to override the floating number precision limit of 53 decimal places.\n",
    "The function generate_derivatives is used to calculate true or false values for the wile loop."
   ]
  },
  {
   "cell_type": "code",
   "execution_count": 8,
   "metadata": {},
   "outputs": [
    {
     "name": "stdout",
     "output_type": "stream",
     "text": [
      "1.4142135623730950488016887242096980785696718753769480731766797379907324784621070388503875343276415727\n"
     ]
    }
   ],
   "source": [
    "x = 2 * 10 ** 200\n",
    "\n",
    "#storing the original x value in y\n",
    "y = x\n",
    "\n",
    "#storing a value for 10**100\n",
    "power = 10**100\n",
    "\n",
    "def generate_derivatives(x,y):\n",
    "    originalDer = abs(x - y**2)\n",
    "    minusDer = abs(x - (y-1)**2)\n",
    "    plusDer= abs(x - (y+1)**2)\n",
    "    \n",
    "    minimised = originalDer <= minusDer and originalDer <= plusDer\n",
    "    below_min =  plusDer < minusDer\n",
    "    \n",
    "    return minimised, below_min\n",
    "\n",
    "while True:\n",
    "    oldy = y\n",
    "    y = (y + x // y) // 2\n",
    "    minimised, below_min = generate_derivatives(x, y)\n",
    "    if minimised:\n",
    "        break\n",
    "\n",
    "    if y == oldy:\n",
    "        if below_min:\n",
    "            y += 1\n",
    "        else:\n",
    "            y -= 1\n",
    "        minimised, _ = generate_derivatives(x, y)\n",
    "        if minimised:\n",
    "            break\n",
    "\n",
    "print(f'{y // power}.{y % power:100d}')\n",
    "#code by alani"
   ]
  },
  {
   "cell_type": "code",
   "execution_count": 11,
   "metadata": {},
   "outputs": [
    {
     "name": "stdout",
     "output_type": "stream",
     "text": [
      "1.4142135623746899\n"
     ]
    }
   ],
   "source": [
    "\n",
    "error = 0.0001\n",
    "def approxSqrt(num, error):\n",
    "    guess = num\n",
    "    diff = 9999999\n",
    "    count = 0\n",
    "    while diff > error:\n",
    "        newGuess = guess -((guess**2 - num) / (2*guess))\n",
    "        diff = newGuess - guess\n",
    "        if diff < 0:\n",
    "            diff *= -1\n",
    "        \n",
    "        guess = newGuess\n",
    "    return guess\n",
    "print(approxSqrt(2,error))"
   ]
  },
  {
   "cell_type": "code",
   "execution_count": 14,
   "metadata": {},
   "outputs": [
    {
     "name": "stdout",
     "output_type": "stream",
     "text": [
      "1.4142135623842478\n"
     ]
    }
   ],
   "source": [
    "def sqrt(n):\n",
    "    start = 0\n",
    "    end = n\n",
    "    m = 0\n",
    "    min_range = 0.0000000001;\n",
    "     \n",
    "    while end - start > min_range:\n",
    "        m = (start + end) / 2.0;\n",
    "        pow2 = m * m\n",
    "        if abs(pow2 - n) <= min_range:\n",
    "            return m\n",
    "        elif pow2 < n:\n",
    "            start = m\n",
    "        else:\n",
    "            end = m\n",
    "             \n",
    "    return m\n",
    " \n",
    "n = 2\n",
    "print(sqrt(n))\n",
    " "
   ]
  },
  {
   "cell_type": "code",
   "execution_count": null,
   "metadata": {},
   "outputs": [],
   "source": []
  }
 ],
 "metadata": {
  "kernelspec": {
   "display_name": "Python 3",
   "language": "python",
   "name": "python3"
  },
  "language_info": {
   "codemirror_mode": {
    "name": "ipython",
    "version": 3
   },
   "file_extension": ".py",
   "mimetype": "text/x-python",
   "name": "python",
   "nbconvert_exporter": "python",
   "pygments_lexer": "ipython3",
   "version": "3.8.3"
  }
 },
 "nbformat": 4,
 "nbformat_minor": 4
}
